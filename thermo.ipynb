{
 "cells": [
  {
   "cell_type": "markdown",
   "metadata": {},
   "source": [
    "# Thermodynamics and Expansion, en bref\n",
    "\n",
    "\n",
    "In the beginning, the universe began to expand. It decided, for some reason or another, to decrease temperature in doing so. This, unfortunately, was the advent of the physical field known as *thermodynamics*. \n",
    "\n",
    "\n",
    "\n",
    "\n",
    "If we think of BBN as a house, thermodynamics is the foundation. Despite its... lackluster reputation, thermodynamics motivates and governs all of nucleosynthesis at every step of the way. We therefore will begin with a brief discussion on the thermodynamics of the early universe. We will build BBN from the ground up.\n",
    "\n",
    "1. The expansion of the universe\n",
    "2. Neutrino decoupling\n",
    "\n",
    "Both of these principles can be expressed by using the Friedmann equations. \n",
    "\n",
    "\n",
    "The Friedmann equations express the expansion of the universe by relating the derivative of the rate of expansion (scale factor) to itself. In doing so, we can recover time and teperature with ample modification of the equations. \n",
    "\n",
    "\n",
    "```{math}\n",
    ":label: friedmann\n",
    "\\frac{\\ddot{a}}{a} = -\\frac{4\\pi G}{3} \\left(\\rho + \\frac{3p}{c^2}\\right)\n",
    "```\n",
    "\n",
    "see the expansion eq {eq}`friedmann`\n",
    "\n",
    "## Neutrino Decoupling\n",
    "\n",
    "As the universe cooled and the universe expanded, the interaction rate of neutrinos was eventually too slow to maintain thermal equilibrium and they ceased to significantly react with other forms of matter. This decoupling is of crucial importance for determining the scale factor, as it changes the energy density of the radiation bath of the early universe.\n",
    "\n",
    "## Radiation-Dominated Era\n",
    "\n",
    "## Friedmann Equations and Modification\n",
    "\n",
    "We assume a basic Friedmann universe ($\\Lambda = 0$), but it can easily be considered.\n",
    "\n",
    "## The Uncertainty of $\\Omega$ \n",
    "\n",
    "## Temperature-Time Relation\n",
    "\n",
    "\n",
    "We obtain\n",
    "\n",
    "```{note}\n",
    "We integrate starting at the time 0. We note that this does NOT mean that the big bang starts at the beginning of our simulation! It is an arbitrary starting point. In reality, it makes little difference, as decoupling happens within a second of the big bang.\n",
    "```"
   ]
  },
  {
   "cell_type": "markdown",
   "metadata": {},
   "source": []
  }
 ],
 "metadata": {
  "kernelspec": {
   "display_name": "Python 3.10.5 64-bit",
   "language": "python",
   "name": "python3"
  },
  "language_info": {
   "name": "python",
   "version": "3.10.5"
  },
  "orig_nbformat": 4,
  "vscode": {
   "interpreter": {
    "hash": "8950b3d69db4d532b7143b51f6a4ce59f55b3744c355204e706abd3138917a3e"
   }
  }
 },
 "nbformat": 4,
 "nbformat_minor": 2
}
